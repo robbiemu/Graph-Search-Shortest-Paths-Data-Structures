{
 "cells": [
  {
   "cell_type": "code",
   "execution_count": 1,
   "source": [
    "import sys\n",
    "sys.path.append('.')\n",
    "sys.path.append('..')\n",
    "from problem_loader import ProblemLoader\n",
    "from helpers import obfuscate\n",
    "from array_stream import process_array\n",
    "from private import private\n",
    "\n",
    "data_urls = {\n",
    "    'problem1': 'https://d18ky98rnyall9.cloudfront.net/_6ec67df2804ff4b58ab21c12edcb21f8_Median.txt?Expires=1624752000&Signature=Be1nrqwHtkcSmZhYuu0TxRn6btvgwgi8fgsm566OtQ8IZYJp0BGeVW2OY8R2027q~rY3VE8pwPMoMkLe4x3XNA2T4rDKz5pgAobc7Nl3CNVrxyOZJmCNO8gMjT53ODxpJIQDoNTgWH4tJuqADusYAyxSz1TZPb8HMpzJi18N7kA_&Key-Pair-Id=APKAJLTNE6QMUY6HBC5A'\n",
    "}"
   ],
   "outputs": [],
   "metadata": {}
  },
  {
   "cell_type": "markdown",
   "source": [
    "## Problem 1\n",
    "\n",
    "The goal of this problem is to implement the \"Median Maintenance\" algorithm (covered in the Week 3 lecture on heap applications).  The text file contains a list of the integers from 1 to 10000 in unsorted order; you should treat this as a stream of numbers, arriving one by one.  Letting $x_i$ denote the $i^{th}$ number of the file, the $k{th}$ median $m_k$ is defined as the median of the numbers $x_1,\\ldots,x_k$.  (So, if $k$ is odd, then $m_k$ is $((k+1)/2)^{th}$ smallest number among $x_1,\\ldots,x_k$ ; if $k$ is even, then $m_k$ is the $(k/2)^{th}$ smallest number among $x_1,\\ldots,x_k$.)\n",
    "\n",
    "In the box below you should type the sum of these 10000 medians, modulo 10000 (i.e., only the last 4 digits).  That is, you should compute $(m_1+m_2+m_3 + \\cdots + m_{10000}) \\bmod 10000$.\n",
    "\n",
    "### OPTIONAL EXERCISE: \n",
    "Compare the performance achieved by heap-based and search-tree-based implementations of the algorithm.\n",
    "\n"
   ],
   "metadata": {}
  },
  {
   "cell_type": "code",
   "execution_count": 2,
   "source": [
    "values = ProblemLoader(\n",
    "    data_urls['problem1'], \n",
    "    fname=\"stream.p\", \n",
    "    preprocessor=process_array\n",
    ").fetch()\n",
    "print(values[:10])"
   ],
   "outputs": [
    {
     "output_type": "stream",
     "name": "stdout",
     "text": [
      "[6331, 2793, 1640, 9290, 225, 625, 6195, 2303, 5685, 1354]\n"
     ]
    }
   ],
   "metadata": {}
  },
  {
   "cell_type": "code",
   "execution_count": 3,
   "source": [
    "import heapq\n",
    "import numpy as np\n",
    "\n",
    "class MedianHeap():\n",
    "    def __init__(self):\n",
    "        self.median = np.inf\n",
    "        self.minh = []\n",
    "        self.maxh = []\n",
    "        heapq.heapify(self.minh)\n",
    "        heapq._heapify_max(self.maxh)\n",
    "\n",
    "    def push(self, value):\n",
    "        # If the new integer value is less than the current median, we put it in to the max-heap\n",
    "        if value < self.median:\n",
    "            self.maxh.append(value)\n",
    "            heapq._heapify_max(self.maxh)\n",
    "        else:\n",
    "            heapq.heappush(self.minh, value)\n",
    "        \n",
    "        # if the size difference between two heaps are more than one take the top one out of the large heap and put it to the other.\n",
    "        if abs(len(self.minh) - len(self.maxh)) > 1:\n",
    "            if len(self.minh) > len(self.maxh): # min has more elements\n",
    "                x = heapq.heappop(self.minh)\n",
    "                self.maxh.append(x)\n",
    "                heapq._heapify_max(self.maxh)\n",
    "            else: # max has more elements\n",
    "                x = heapq._heappop_max(self.maxh)\n",
    "                heapq.heappush(self.minh, x)\n",
    "\n",
    "        self.update_median()\n",
    "        \n",
    "    @private\n",
    "    def update_median(self):\n",
    "        if len(self.minh) == len(self.maxh):\n",
    "            self.median = self.maxh[0] \n",
    "        else:\n",
    "            if len(self.minh) > len(self.maxh):\n",
    "                self.median = self.minh[0]\n",
    "            else: \n",
    "                self.median = self.maxh[0]\n",
    "        \n"
   ],
   "outputs": [],
   "metadata": {}
  },
  {
   "cell_type": "code",
   "execution_count": 5,
   "source": [
    "h = MedianHeap()\n",
    "m = []\n",
    "for v in values:\n",
    "    h.push(v)\n",
    "    m.append(h.median)\n",
    "\n",
    "print(len(h.minh), len(h.maxh))\n",
    "print(len(m)) \n",
    "obfuscate(sum(m)) \n",
    "obfuscate(sum(m) % len(m))"
   ],
   "outputs": [
    {
     "output_type": "stream",
     "name": "stdout",
     "text": [
      "5000 5000\n",
      "10000\n"
     ]
    }
   ],
   "metadata": {}
  }
 ],
 "metadata": {
  "interpreter": {
   "hash": "aee8b7b246df8f9039afb4144a1f6fd8d2ca17a180786b69acc140d282b71a49"
  },
  "kernelspec": {
   "name": "python3",
   "display_name": "Python 3.9.1 64-bit"
  },
  "language_info": {
   "name": "python",
   "version": "3.9.1",
   "mimetype": "text/x-python",
   "codemirror_mode": {
    "name": "ipython",
    "version": 3
   },
   "pygments_lexer": "ipython3",
   "nbconvert_exporter": "python",
   "file_extension": ".py"
  },
  "orig_nbformat": 4
 },
 "nbformat": 4,
 "nbformat_minor": 2
}