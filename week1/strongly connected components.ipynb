{
 "cells": [
  {
   "cell_type": "markdown",
   "metadata": {},
   "source": [
    "# Programming Assignment #1"
   ]
  },
  {
   "cell_type": "code",
   "execution_count": 1,
   "metadata": {},
   "outputs": [],
   "source": [
    "import sys\n",
    "sys.path.append('.')\n",
    "sys.path.append('..')\n",
    "from collections import defaultdict, namedtuple\n",
    "from edge_pairs import preprocess_directed_edge_pairs as preprocessor\n",
    "from problem_loader import ProblemLoader\n",
    "import sys, threading\n",
    "sys.setrecursionlimit(800000)\n",
    "threading.stack_size(67108864)\n",
    "\n",
    "\n",
    "data_urls = {\n",
    "    'problem1': 'https://d18ky98rnyall9.cloudfront.net/_410e934e6553ac56409b2cb7096a44aa_SCC.txt?Expires=1622592000&Signature=XSp6f8VpCzozJTkVMqbkaYlNxTP41GlG2NtviHXJuxnbBCA78Tpa5tkEo0XnzIIHGcd8MQVY1nE8EgsjMFPIl2fl7WTW9VCUhOrMbDLcEuX0BY170iJSVfus9-ESG0dWtyZgzOdOqXPzdGj88EWWRdlW2An4SiH2uUdFNNpFKt8_&Key-Pair-Id=APKAJLTNE6QMUY6HBC5A'\n",
    "}"
   ]
  },
  {
   "cell_type": "markdown",
   "metadata": {},
   "source": [
    "## Problem 1\n",
    "\n",
    "### Description\n",
    "The file contains the edges of a directed graph. Vertices are labeled as positive integers from 1 to 875714. Every row indicates an edge, the vertex label in first column is the tail and the vertex label in second column is the head (recall the graph is directed, and the edges are directed from the first column vertex to the second column vertex). So for example, the $11^{th}$ row looks liks: `2 47646`. This just means that the vertex with label _2_ has an outgoing edge to the vertex with label _47646_\n",
    "\n",
    "Your task is to code up the algorithm from the video lectures for computing strongly connected components (SCCs), and to run this algorithm on the given graph.\n",
    "\n",
    "### Output Format: \n",
    "You should output the sizes of the 5 largest SCCs in the given graph, in decreasing order of sizes, separated by commas (avoid any spaces). So if your algorithm computes the sizes of the five largest SCCs to be 500, 400, 300, 200 and 100, then your answer should be \"500,400,300,200,100\" (without the quotes). If your algorithm finds less than 5 SCCs, then write 0 for the remaining terms. Thus, if your algorithm computes only 3 SCCs whose sizes are 400, 300, and 100, then your answer should be \"400,300,100,0,0\" (without the quotes).  (Note also that your answer should not have any spaces in it.)\n",
    "\n",
    "### WARNING: \n",
    "This is the most challenging programming assignment of the course. Because of the size of the graph you may have to manage memory carefully. The best way to do this depends on your programming language and environment, and we strongly suggest that you exchange tips for doing this on the discussion forums.\n",
    "\n"
   ]
  },
  {
   "cell_type": "code",
   "execution_count": 2,
   "metadata": {},
   "outputs": [
    {
     "name": "stdout",
     "output_type": "stream",
     "text": [
      "[(1, 1), (1, 2)]\n"
     ]
    }
   ],
   "source": [
    "values = ProblemLoader(\n",
    "    data_urls['problem1'], \n",
    "    fname=\"graph.p\", \n",
    "    preprocessor=preprocessor\n",
    ").fetch()\n",
    "print(values[:2])"
   ]
  },
  {
   "cell_type": "code",
   "execution_count": 3,
   "metadata": {},
   "outputs": [],
   "source": [
    "Node = namedtuple('Node', ['children', 'parents'])\n",
    "\n",
    "class Graph():\n",
    "    def __init__(self):\n",
    "        self.nodes = defaultdict(list)\n",
    "\n",
    "    def add_edge(self, x, y):\n",
    "        if x in self.nodes:\n",
    "            self.nodes[x].children.append(y)\n",
    "        else:\n",
    "            self.nodes[x] = Node(children=[y], parents=[])\n",
    "        if y in self.nodes:\n",
    "            self.nodes[y].parents.append(x)\n",
    "        else:\n",
    "            self.nodes[y] = Node(children=[], parents=[x])\n",
    "    \n",
    "    def dfs(self, i, visited_vertex, stack, reversed=False):\n",
    "        visited_vertex[i] = True\n",
    "\n",
    "        branch = 'parents' if reversed else 'children'\n",
    "        for j in getattr(self.nodes[i], branch):\n",
    "            if not visited_vertex[j]:\n",
    "                self.dfs(j, visited_vertex, stack, reversed)\n",
    "\n",
    "        stack = stack.append(i)\n",
    "        "
   ]
  },
  {
   "cell_type": "code",
   "execution_count": 4,
   "metadata": {},
   "outputs": [],
   "source": [
    "g = Graph()\n",
    "for x, y in values:\n",
    "    g.add_edge(x,y)\n"
   ]
  },
  {
   "cell_type": "code",
   "execution_count": 5,
   "metadata": {},
   "outputs": [
    {
     "name": "stdout",
     "output_type": "stream",
     "text": [
      "[434821, 968, 459, 313, 211]\n"
     ]
    }
   ],
   "source": [
    "def main():\n",
    "    stack = [] # the ordering for the second pass\n",
    "    visited_vertex = { k: False for k in g.nodes.keys() }\n",
    "    for i in range(len(g.nodes.keys()), 0, -1):\n",
    "        if not visited_vertex[i]:\n",
    "            g.dfs(i, visited_vertex, stack, reversed=True)\n",
    "\n",
    "    sccs=[]\n",
    "    visited_vertex = { k: False for k in g.nodes.keys() }\n",
    "    while stack:\n",
    "        scc=[]\n",
    "        i = stack.pop()\n",
    "        if not visited_vertex[i]:\n",
    "            g.dfs(i, visited_vertex, scc)\n",
    "        sccs.append(scc)\n",
    "\n",
    "    lengths = list(map(len, sccs))\n",
    "    lengths.sort(reverse=True)\n",
    "    print(str(lengths[:5]))\n",
    "\n",
    "thread = threading.Thread(target=main)\n",
    "thread.start()"
   ]
  }
 ],
 "metadata": {
  "interpreter": {
   "hash": "aee8b7b246df8f9039afb4144a1f6fd8d2ca17a180786b69acc140d282b71a49"
  },
  "kernelspec": {
   "display_name": "Python 3.9.1 64-bit",
   "name": "python3"
  },
  "language_info": {
   "codemirror_mode": {
    "name": "ipython",
    "version": 3
   },
   "file_extension": ".py",
   "mimetype": "text/x-python",
   "name": "python",
   "nbconvert_exporter": "python",
   "pygments_lexer": "ipython3",
   "version": "3.9.1"
  },
  "orig_nbformat": 2
 },
 "nbformat": 4,
 "nbformat_minor": 2
}