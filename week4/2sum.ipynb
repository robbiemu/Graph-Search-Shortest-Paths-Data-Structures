{
 "cells": [
  {
   "cell_type": "code",
   "execution_count": 1,
   "source": [
    "import sys\n",
    "sys.path.append('.')\n",
    "sys.path.append('..')\n",
    "from problem_loader import ProblemLoader\n",
    "from week3.array_stream import process_array\n",
    "\n",
    "data_urls = {\n",
    "    'problem1': 'https://d18ky98rnyall9.cloudfront.net/_6ec67df2804ff4b58ab21c12edcb21f8_algo1-programming_prob-2sum.txt?Expires=1624838400&Signature=YEAWO3g78NaYkPinFaVVLRTDRhbEqcZaIpvjUBa0CpghDBBcp5AXUkUQ-3UK5EVMQAKAUTjRfscOkUIkhZoFPPTAXYdfobpkDzMZ376vUQ8KYx9OQG6b0TXl7l4j99DkhpChsXbRspmqrBlCIqZqRU9qpNYLc7fPEPVYcQUW~-s_&Key-Pair-Id=APKAJLTNE6QMUY6HBC5A'\n",
    "}"
   ],
   "outputs": [],
   "metadata": {}
  },
  {
   "cell_type": "markdown",
   "source": [
    "## Problem 1\n",
    "\n",
    "The goal of this problem is to implement a variant of the 2-SUM algorithm covered in this week's lectures.\n",
    "\n",
    "The file contains 1 million integers, both positive and negative (there might be some repetitions!).This is your array of integers, with the $i^{th}$ row of the file specifying the $i^{th}$ entry of the array.\n",
    "\n",
    "Your task is to compute the number of target values $t$ in the interval $[-10000,10000]$ (inclusive) such that there are distinct numbers $x,y$ in the input file that satisfy $x+y=t$. (NOTE: ensuring distinctness requires a one-line addition to the algorithm from lecture.)\n",
    "\n",
    "### OPTIONAL CHALLENGE: \n",
    "If this problem is too easy for you, try implementing your own hash table for it. For example, you could compare performance under the chaining and open addressing approaches to resolving collisions."
   ],
   "metadata": {}
  },
  {
   "cell_type": "code",
   "execution_count": 2,
   "source": [
    "values = ProblemLoader(\n",
    "    data_urls['problem1'], \n",
    "    fname=\"summands.p\", \n",
    "    preprocessor=process_array\n",
    ").fetch()\n",
    "print(values[:10])"
   ],
   "outputs": [
    {
     "output_type": "stream",
     "name": "stdout",
     "text": [
      "[68037543430, -21123414637, 56619844751, 59688006695, 82329471587, -60489726142, -32955448858, 53645918962, -44445057840, 10793991159]\n"
     ]
    }
   ],
   "metadata": {}
  },
  {
   "cell_type": "code",
   "execution_count": null,
   "source": [
    "#i = 10\n",
    "#count = 0\n",
    "# for t in range(-i,i + 1):\n",
    "#     for x in summands:\n",
    "#         if x - t in summands and x - t != t:\n",
    "#             count += 1\n",
    "#             break"
   ],
   "outputs": [],
   "metadata": {}
  },
  {
   "cell_type": "code",
   "execution_count": 28,
   "source": [
    "from bisect import bisect_right\n",
    "\n",
    "summands = list(dict.fromkeys(values))\n",
    "summands.sort() # timesort\n",
    "\n",
    "found_sums = {}\n",
    "for x in summands:\n",
    "    for j in range(bisect_right(summands, -10000 - x), bisect_right(summands, 10000 - x)):\n",
    "        y = summands[j]\n",
    "        s = y + x\n",
    "        if y != x and (s not in found_sums):\n",
    "            found_sums[s] = True\n",
    "count = len(found_sums.keys())\n",
    "count"
   ],
   "outputs": [
    {
     "output_type": "execute_result",
     "data": {
      "text/plain": [
       "427"
      ]
     },
     "metadata": {},
     "execution_count": 28
    }
   ],
   "metadata": {}
  },
  {
   "cell_type": "code",
   "execution_count": 29,
   "source": [
    "print(min(found_sums.keys()), max(found_sums.keys()))"
   ],
   "outputs": [
    {
     "output_type": "stream",
     "name": "stdout",
     "text": [
      "-9967 9965\n"
     ]
    }
   ],
   "metadata": {}
  }
 ],
 "metadata": {
  "orig_nbformat": 4,
  "language_info": {
   "name": "python"
  }
 },
 "nbformat": 4,
 "nbformat_minor": 2
}